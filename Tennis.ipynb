{
 "cells": [
  {
   "cell_type": "markdown",
   "metadata": {},
   "source": [
    "# Collaboration and Competition\n",
    "\n",
    "---\n",
    "\n",
    "In this notebook, you will learn how to use the Unity ML-Agents environment for the third project of the [Deep Reinforcement Learning Nanodegree](https://www.udacity.com/course/deep-reinforcement-learning-nanodegree--nd893) program.\n",
    "\n",
    "### 1. Start the Environment\n",
    "\n",
    "We begin by importing the necessary packages.  If the code cell below returns an error, please revisit the project instructions to double-check that you have installed [Unity ML-Agents](https://github.com/Unity-Technologies/ml-agents/blob/master/docs/Installation.md) and [NumPy](http://www.numpy.org/)."
   ]
  },
  {
   "cell_type": "code",
   "execution_count": 1,
   "metadata": {},
   "outputs": [],
   "source": [
    "from unityagents import UnityEnvironment\n",
    "import numpy as np"
   ]
  },
  {
   "cell_type": "markdown",
   "metadata": {},
   "source": [
    "Next, we will start the environment!  **_Before running the code cell below_**, change the `file_name` parameter to match the location of the Unity environment that you downloaded.\n",
    "\n",
    "- **Mac**: `\"path/to/Tennis.app\"`\n",
    "- **Windows** (x86): `\"path/to/Tennis_Windows_x86/Tennis.exe\"`\n",
    "- **Windows** (x86_64): `\"path/to/Tennis_Windows_x86_64/Tennis.exe\"`\n",
    "- **Linux** (x86): `\"path/to/Tennis_Linux/Tennis.x86\"`\n",
    "- **Linux** (x86_64): `\"path/to/Tennis_Linux/Tennis.x86_64\"`\n",
    "- **Linux** (x86, headless): `\"path/to/Tennis_Linux_NoVis/Tennis.x86\"`\n",
    "- **Linux** (x86_64, headless): `\"path/to/Tennis_Linux_NoVis/Tennis.x86_64\"`\n",
    "\n",
    "For instance, if you are using a Mac, then you downloaded `Tennis.app`.  If this file is in the same folder as the notebook, then the line below should appear as follows:\n",
    "```\n",
    "env = UnityEnvironment(file_name=\"Tennis.app\")\n",
    "```"
   ]
  },
  {
   "cell_type": "code",
   "execution_count": 2,
   "metadata": {},
   "outputs": [
    {
     "name": "stderr",
     "output_type": "stream",
     "text": [
      "INFO:unityagents:\n",
      "'Academy' started successfully!\n",
      "Unity Academy name: Academy\n",
      "        Number of Brains: 1\n",
      "        Number of External Brains : 1\n",
      "        Lesson number : 0\n",
      "        Reset Parameters :\n",
      "\t\t\n",
      "Unity brain name: TennisBrain\n",
      "        Number of Visual Observations (per agent): 0\n",
      "        Vector Observation space type: continuous\n",
      "        Vector Observation space size (per agent): 8\n",
      "        Number of stacked Vector Observation: 3\n",
      "        Vector Action space type: continuous\n",
      "        Vector Action space size (per agent): 2\n",
      "        Vector Action descriptions: , \n"
     ]
    }
   ],
   "source": [
    "env = UnityEnvironment(file_name=\"Tennis.app\")"
   ]
  },
  {
   "cell_type": "markdown",
   "metadata": {},
   "source": [
    "Environments contain **_brains_** which are responsible for deciding the actions of their associated agents. Here we check for the first brain available, and set it as the default brain we will be controlling from Python."
   ]
  },
  {
   "cell_type": "code",
   "execution_count": 3,
   "metadata": {},
   "outputs": [],
   "source": [
    "# get the default brain\n",
    "brain_name = env.brain_names[0]\n",
    "brain = env.brains[brain_name]"
   ]
  },
  {
   "cell_type": "markdown",
   "metadata": {},
   "source": [
    "### 2. Examine the State and Action Spaces\n",
    "\n",
    "In this environment, two agents control rackets to bounce a ball over a net. If an agent hits the ball over the net, it receives a reward of +0.1.  If an agent lets a ball hit the ground or hits the ball out of bounds, it receives a reward of -0.01.  Thus, the goal of each agent is to keep the ball in play.\n",
    "\n",
    "The observation space consists of 8 variables corresponding to the position and velocity of the ball and racket. Two continuous actions are available, corresponding to movement toward (or away from) the net, and jumping. \n",
    "\n",
    "Run the code cell below to print some information about the environment."
   ]
  },
  {
   "cell_type": "code",
   "execution_count": 4,
   "metadata": {},
   "outputs": [
    {
     "name": "stdout",
     "output_type": "stream",
     "text": [
      "Number of agents: 2\n",
      "Size of each action: 2\n",
      "There are 2 agents. Each observes a state with length: 24\n",
      "The state for the first agent looks like: [ 0.          0.          0.          0.          0.          0.\n",
      "  0.          0.          0.          0.          0.          0.\n",
      "  0.          0.          0.          0.         -6.65278625 -1.5\n",
      " -0.          0.          6.83172083  6.         -0.          0.        ]\n"
     ]
    }
   ],
   "source": [
    "# reset the environment\n",
    "env_info = env.reset(train_mode=True)[brain_name]\n",
    "\n",
    "# number of agents \n",
    "num_agents = len(env_info.agents)\n",
    "print('Number of agents:', num_agents)\n",
    "\n",
    "# size of each action\n",
    "action_size = brain.vector_action_space_size\n",
    "print('Size of each action:', action_size)\n",
    "\n",
    "# examine the state space \n",
    "states = env_info.vector_observations\n",
    "state_size = states.shape[1]\n",
    "print('There are {} agents. Each observes a state with length: {}'.format(states.shape[0], state_size))\n",
    "print('The state for the first agent looks like:', states[0])"
   ]
  },
  {
   "cell_type": "markdown",
   "metadata": {},
   "source": [
    "### 3. Take Random Actions in the Environment\n",
    "\n",
    "In the next code cell, you will learn how to use the Python API to control the agents and receive feedback from the environment.\n",
    "\n",
    "Once this cell is executed, you will watch the agents' performance, if they select actions at random with each time step.  A window should pop up that allows you to observe the agents.\n",
    "\n",
    "Of course, as part of the project, you'll have to change the code so that the agents are able to use their experiences to gradually choose better actions when interacting with the environment!"
   ]
  },
  {
   "cell_type": "code",
   "execution_count": 5,
   "metadata": {},
   "outputs": [],
   "source": [
    "# for i in range(1, 6):                                      # play game for 5 episodes\n",
    "#     env_info = env.reset(train_mode=False)[brain_name]     # reset the environment    \n",
    "#     states = env_info.vector_observations                  # get the current state (for each agent)\n",
    "#     scores = np.zeros(num_agents)                          # initialize the score (for each agent)\n",
    "#     while True:\n",
    "#         actions = np.random.randn(num_agents, action_size) # select an action (for each agent)\n",
    "#         actions = np.clip(actions, -1, 1)                  # all actions between -1 and 1\n",
    "#         env_info = env.step(actions)[brain_name]           # send all actions to tne environment\n",
    "#         next_states = env_info.vector_observations         # get next state (for each agent)\n",
    "#         rewards = env_info.rewards                         # get reward (for each agent)\n",
    "#         dones = env_info.local_done                        # see if episode finished\n",
    "#         scores += env_info.rewards                         # update the score (for each agent)\n",
    "#         states = next_states                               # roll over states to next time step\n",
    "#         if np.any(dones):                                  # exit loop if episode finished\n",
    "#             break\n",
    "#     print('Score (max over agents) from episode {}: {}'.format(i, np.max(scores)))"
   ]
  },
  {
   "cell_type": "markdown",
   "metadata": {},
   "source": [
    "When finished, you can close the environment."
   ]
  },
  {
   "cell_type": "code",
   "execution_count": 6,
   "metadata": {},
   "outputs": [],
   "source": [
    "# env.close()"
   ]
  },
  {
   "cell_type": "markdown",
   "metadata": {},
   "source": [
    "### 4. It's Your Turn!\n",
    "\n",
    "Now it's your turn to train your own agent to solve the environment!  When training the environment, set `train_mode=True`, so that the line for resetting the environment looks like the following:\n",
    "```python\n",
    "env_info = env.reset(train_mode=True)[brain_name]\n",
    "```"
   ]
  },
  {
   "cell_type": "code",
   "execution_count": 7,
   "metadata": {},
   "outputs": [],
   "source": [
    "from collections import deque\n",
    "import matplotlib.pyplot as plt\n",
    "import torch\n",
    "%matplotlib inline\n",
    "\n",
    "unity_env = env"
   ]
  },
  {
   "cell_type": "code",
   "execution_count": 8,
   "metadata": {},
   "outputs": [
    {
     "name": "stdout",
     "output_type": "stream",
     "text": [
      "env.action_size: 2\n",
      "env.state_size: 24\n",
      "env.num_agents: 2\n"
     ]
    }
   ],
   "source": [
    "from unity_env_wrapper import EnvMultipleWrapper\n",
    "\n",
    "env = EnvMultipleWrapper(env=unity_env, train_mode=True)\n",
    "print(f\"env.action_size: {env.action_size}\")\n",
    "print(f\"env.state_size: {env.state_size}\")\n",
    "print(f\"env.num_agents: {env.num_agents}\")"
   ]
  },
  {
   "cell_type": "markdown",
   "metadata": {},
   "source": [
    "### Agent"
   ]
  },
  {
   "cell_type": "code",
   "execution_count": 9,
   "metadata": {},
   "outputs": [],
   "source": [
    "from maddpg_agent import MultiAgent\n",
    "from model import Actor\n",
    "from model import Critic\n",
    "from replay_buffer import ReplayBuffer\n",
    "from noise import OUNoise"
   ]
  },
  {
   "cell_type": "code",
   "execution_count": 10,
   "metadata": {},
   "outputs": [],
   "source": [
    "buffer_size = int(1e5)\n",
    "device = torch.device(\"cuda:0\" if torch.cuda.is_available() else \"cpu\")\n",
    "learning_rate_actor = 1e-4\n",
    "learning_rate_critic = 1e-3\n",
    "seed = 2\n",
    "episodes_before_train = 300\n",
    "batch_size = 256\n",
    "\n",
    "action_dim = env.action_size\n",
    "state_dim = env.state_size\n",
    "num_agents = env.num_agents\n",
    "\n",
    "def create_actor():\n",
    "    return Actor(\n",
    "        state_dim=state_dim,\n",
    "        action_dim=action_dim,\n",
    "        fc1_units=400,\n",
    "        fc2_units=300,\n",
    "        seed=seed)\n",
    "\n",
    "def create_critic():\n",
    "    return Critic(\n",
    "        state_dim=state_dim * num_agents,\n",
    "        action_dim=action_dim * num_agents,\n",
    "        fc1_units=400,\n",
    "        fc2_units=300,\n",
    "        seed=seed)\n",
    "\n",
    "def create_noise():\n",
    "    return OUNoise(size=action_dim, seed=seed)\n",
    "\n",
    "replay_buffer = ReplayBuffer(buffer_size=buffer_size, seed=seed)\n",
    "agent = MultiAgent(\n",
    "    num_agents=num_agents,\n",
    "    create_actor=create_actor,\n",
    "    create_critic=create_critic,\n",
    "    replay_buffer=replay_buffer,\n",
    "    create_noise=create_noise,\n",
    "    state_dim=state_dim,\n",
    "    action_dim=action_dim,\n",
    "    episodes_before_train=episodes_before_train,\n",
    "    device=device,\n",
    "    lr_actor=learning_rate_actor,\n",
    "    lr_critic=learning_rate_critic,\n",
    "    batch_size=batch_size,\n",
    "    discount=0.99,\n",
    "    tau=1e-3,\n",
    "    initial_noise_scale=1.0,\n",
    "    noise_reduction=0.99,\n",
    "    seed=seed)"
   ]
  },
  {
   "cell_type": "markdown",
   "metadata": {},
   "source": [
    "### Training"
   ]
  },
  {
   "cell_type": "code",
   "execution_count": 11,
   "metadata": {},
   "outputs": [],
   "source": [
    "from train import train, plot_scores"
   ]
  },
  {
   "cell_type": "code",
   "execution_count": 12,
   "metadata": {},
   "outputs": [
    {
     "name": "stderr",
     "output_type": "stream",
     "text": [
      "training loop:   0% |                                          | ETA:  --:--:--\r"
     ]
    },
    {
     "name": "stdout",
     "output_type": "stream",
     "text": [
      "Episode 47/5000            Score: 0.00            Average Score: 0.01            Max Score: 0.10            Average steps: 16.89"
     ]
    },
    {
     "name": "stderr",
     "output_type": "stream",
     "text": [
      "training loop:   1% |                                           | ETA:  0:08:50\r"
     ]
    },
    {
     "name": "stdout",
     "output_type": "stream",
     "text": [
      "Episode 50/5000            Score: 0.00            Average Score: 0.01            Max Score: 0.10            Average steps: 16.72\n",
      "Episode 99/5000            Score: 0.00            Average Score: 0.01            Max Score: 0.10            Average steps: 17.31"
     ]
    },
    {
     "name": "stderr",
     "output_type": "stream",
     "text": [
      "training loop:   2% |                                           | ETA:  0:06:45\r"
     ]
    },
    {
     "name": "stdout",
     "output_type": "stream",
     "text": [
      "Episode 100/5000            Score: 0.00            Average Score: 0.01            Max Score: 0.10            Average steps: 17.28\n",
      "Episode 145/5000            Score: 0.00            Average Score: 0.01            Max Score: 0.10            Average steps: 17.14"
     ]
    },
    {
     "name": "stderr",
     "output_type": "stream",
     "text": [
      "training loop:   3% |#                                          | ETA:  0:05:51\r"
     ]
    },
    {
     "name": "stdout",
     "output_type": "stream",
     "text": [
      "Episode 150/5000            Score: 0.00            Average Score: 0.01            Max Score: 0.10            Average steps: 17.15\n",
      "Episode 197/5000            Score: 0.00            Average Score: 0.01            Max Score: 0.10            Average steps: 16.81"
     ]
    },
    {
     "name": "stderr",
     "output_type": "stream",
     "text": [
      "training loop:   4% |#                                          | ETA:  0:05:26\r"
     ]
    },
    {
     "name": "stdout",
     "output_type": "stream",
     "text": [
      "Episode 200/5000            Score: 0.00            Average Score: 0.01            Max Score: 0.10            Average steps: 16.82\n",
      "Episode 248/5000            Score: 0.00            Average Score: 0.01            Max Score: 0.10            Average steps: 16.79"
     ]
    },
    {
     "name": "stderr",
     "output_type": "stream",
     "text": [
      "training loop:   5% |##                                         | ETA:  0:05:13\r"
     ]
    },
    {
     "name": "stdout",
     "output_type": "stream",
     "text": [
      "Episode 250/5000            Score: 0.00            Average Score: 0.01            Max Score: 0.10            Average steps: 16.94\n",
      "Episode 299/5000            Score: 0.00            Average Score: 0.01            Max Score: 0.10            Average steps: 16.78"
     ]
    },
    {
     "name": "stderr",
     "output_type": "stream",
     "text": [
      "training loop:   6% |##                                         | ETA:  0:05:11\r"
     ]
    },
    {
     "name": "stdout",
     "output_type": "stream",
     "text": [
      "\n",
      "Start training...\n",
      "Episode 300/5000            Score: 0.00            Average Score: 0.01            Max Score: 0.10            Average steps: 16.77\n",
      "Episode 349/5000            Score: 0.00            Average Score: 0.01            Max Score: 0.10            Average steps: 15.52"
     ]
    },
    {
     "name": "stderr",
     "output_type": "stream",
     "text": [
      "training loop:   7% |###                                        | ETA:  0:12:17\r"
     ]
    },
    {
     "name": "stdout",
     "output_type": "stream",
     "text": [
      "Episode 350/5000            Score: 0.00            Average Score: 0.01            Max Score: 0.10            Average steps: 15.52\n",
      "Episode 399/5000            Score: 0.00            Average Score: 0.00            Max Score: 0.00            Average steps: 14.20"
     ]
    },
    {
     "name": "stderr",
     "output_type": "stream",
     "text": [
      "training loop:   8% |###                                        | ETA:  0:17:41\r"
     ]
    },
    {
     "name": "stdout",
     "output_type": "stream",
     "text": [
      "Episode 400/5000            Score: 0.00            Average Score: 0.00            Max Score: 0.00            Average steps: 14.20\n",
      "Episode 449/5000            Score: 0.00            Average Score: 0.00            Max Score: 0.00            Average steps: 14.20"
     ]
    },
    {
     "name": "stderr",
     "output_type": "stream",
     "text": [
      "training loop:   9% |###                                        | ETA:  0:21:41\r"
     ]
    },
    {
     "name": "stdout",
     "output_type": "stream",
     "text": [
      "Episode 450/5000            Score: 0.00            Average Score: 0.00            Max Score: 0.00            Average steps: 14.20\n",
      "Episode 499/5000            Score: 0.00            Average Score: 0.00            Max Score: 0.00            Average steps: 14.20"
     ]
    },
    {
     "name": "stderr",
     "output_type": "stream",
     "text": [
      "training loop:  10% |####                                       | ETA:  0:24:31\r"
     ]
    },
    {
     "name": "stdout",
     "output_type": "stream",
     "text": [
      "Episode 500/5000            Score: 0.00            Average Score: 0.00            Max Score: 0.00            Average steps: 14.20\n",
      "Episode 549/5000            Score: 0.00            Average Score: 0.00            Max Score: 0.00            Average steps: 14.20"
     ]
    },
    {
     "name": "stderr",
     "output_type": "stream",
     "text": [
      "training loop:  11% |####                                       | ETA:  0:26:44\r"
     ]
    },
    {
     "name": "stdout",
     "output_type": "stream",
     "text": [
      "Episode 550/5000            Score: 0.00            Average Score: 0.00            Max Score: 0.00            Average steps: 14.22\n",
      "Episode 599/5000            Score: 0.00            Average Score: 0.01            Max Score: 0.09            Average steps: 15.50"
     ]
    },
    {
     "name": "stderr",
     "output_type": "stream",
     "text": [
      "training loop:  12% |#####                                      | ETA:  0:29:14\r"
     ]
    },
    {
     "name": "stdout",
     "output_type": "stream",
     "text": [
      "Episode 600/5000            Score: 0.00            Average Score: 0.01            Max Score: 0.09            Average steps: 15.50\n",
      "Episode 649/5000            Score: 0.00            Average Score: 0.01            Max Score: 0.09            Average steps: 15.92"
     ]
    },
    {
     "name": "stderr",
     "output_type": "stream",
     "text": [
      "training loop:  13% |#####                                      | ETA:  0:30:45\r"
     ]
    },
    {
     "name": "stdout",
     "output_type": "stream",
     "text": [
      "Episode 650/5000            Score: 0.00            Average Score: 0.01            Max Score: 0.09            Average steps: 15.90\n",
      "Episode 699/5000            Score: 0.00            Average Score: 0.01            Max Score: 0.09            Average steps: 15.73"
     ]
    },
    {
     "name": "stderr",
     "output_type": "stream",
     "text": [
      "training loop:  14% |######                                     | ETA:  0:32:23\r"
     ]
    },
    {
     "name": "stdout",
     "output_type": "stream",
     "text": [
      "Episode 700/5000            Score: 0.09            Average Score: 0.01            Max Score: 0.09            Average steps: 15.90\n",
      "Episode 749/5000            Score: 0.00            Average Score: 0.03            Max Score: 0.10            Average steps: 18.61"
     ]
    },
    {
     "name": "stderr",
     "output_type": "stream",
     "text": [
      "training loop:  15% |######                                     | ETA:  0:34:39\r"
     ]
    },
    {
     "name": "stdout",
     "output_type": "stream",
     "text": [
      "Episode 750/5000            Score: 0.09            Average Score: 0.03            Max Score: 0.10            Average steps: 18.78\n",
      "Episode 799/5000            Score: 0.10            Average Score: 0.05            Max Score: 0.20            Average steps: 24.25"
     ]
    },
    {
     "name": "stderr",
     "output_type": "stream",
     "text": [
      "training loop:  16% |######                                     | ETA:  0:37:59\r"
     ]
    },
    {
     "name": "stdout",
     "output_type": "stream",
     "text": [
      "Episode 800/5000            Score: 0.10            Average Score: 0.05            Max Score: 0.20            Average steps: 24.34\n",
      "Episode 849/5000            Score: 0.09            Average Score: 0.05            Max Score: 0.30            Average steps: 24.76"
     ]
    },
    {
     "name": "stderr",
     "output_type": "stream",
     "text": [
      "training loop:  17% |#######                                    | ETA:  0:39:31\r"
     ]
    },
    {
     "name": "stdout",
     "output_type": "stream",
     "text": [
      "Episode 850/5000            Score: 0.00            Average Score: 0.04            Max Score: 0.30            Average steps: 24.59\n",
      "Episode 899/5000            Score: 0.09            Average Score: 0.05            Max Score: 0.30            Average steps: 23.62"
     ]
    },
    {
     "name": "stderr",
     "output_type": "stream",
     "text": [
      "training loop:  18% |#######                                    | ETA:  0:41:34\r"
     ]
    },
    {
     "name": "stdout",
     "output_type": "stream",
     "text": [
      "Episode 900/5000            Score: 0.09            Average Score: 0.05            Max Score: 0.30            Average steps: 23.53\n",
      "Episode 949/5000            Score: 0.10            Average Score: 0.08            Max Score: 0.10            Average steps: 28.88"
     ]
    },
    {
     "name": "stderr",
     "output_type": "stream",
     "text": [
      "training loop:  19% |########                                   | ETA:  0:44:27\r"
     ]
    },
    {
     "name": "stdout",
     "output_type": "stream",
     "text": [
      "Episode 950/5000            Score: 0.09            Average Score: 0.08            Max Score: 0.10            Average steps: 29.06\n",
      "Episode 999/5000            Score: 0.10            Average Score: 0.10            Max Score: 0.20            Average steps: 34.21"
     ]
    },
    {
     "name": "stderr",
     "output_type": "stream",
     "text": [
      "training loop:  20% |########                                   | ETA:  0:47:59\r"
     ]
    },
    {
     "name": "stdout",
     "output_type": "stream",
     "text": [
      "Episode 1000/5000            Score: 0.50            Average Score: 0.10            Max Score: 0.50            Average steps: 35.74\n",
      "Episode 1049/5000            Score: 0.10            Average Score: 0.11            Max Score: 0.50            Average steps: 39.14"
     ]
    },
    {
     "name": "stderr",
     "output_type": "stream",
     "text": [
      "training loop:  21% |#########                                  | ETA:  0:51:09\r"
     ]
    },
    {
     "name": "stdout",
     "output_type": "stream",
     "text": [
      "Episode 1050/5000            Score: 0.20            Average Score: 0.11            Max Score: 0.50            Average steps: 39.51\n",
      "Episode 1099/5000            Score: 0.09            Average Score: 0.11            Max Score: 0.50            Average steps: 40.28"
     ]
    },
    {
     "name": "stderr",
     "output_type": "stream",
     "text": [
      "training loop:  22% |#########                                  | ETA:  0:53:33\r"
     ]
    },
    {
     "name": "stdout",
     "output_type": "stream",
     "text": [
      "Episode 1100/5000            Score: 0.09            Average Score: 0.11            Max Score: 0.40            Average steps: 38.74\n",
      "Episode 1149/5000            Score: 0.09            Average Score: 0.13            Max Score: 0.60            Average steps: 46.33"
     ]
    },
    {
     "name": "stderr",
     "output_type": "stream",
     "text": [
      "training loop:  23% |#########                                  | ETA:  0:57:52\r"
     ]
    },
    {
     "name": "stdout",
     "output_type": "stream",
     "text": [
      "Episode 1150/5000            Score: 0.10            Average Score: 0.13            Max Score: 0.60            Average steps: 45.95\n",
      "Episode 1199/5000            Score: 0.09            Average Score: 0.13            Max Score: 0.60            Average steps: 48.29"
     ]
    },
    {
     "name": "stderr",
     "output_type": "stream",
     "text": [
      "training loop:  24% |##########                                 | ETA:  1:00:07\r"
     ]
    },
    {
     "name": "stdout",
     "output_type": "stream",
     "text": [
      "Episode 1200/5000            Score: 0.09            Average Score: 0.13            Max Score: 0.60            Average steps: 48.29\n",
      "Episode 1249/5000            Score: 0.09            Average Score: 0.14            Max Score: 0.70            Average steps: 54.20"
     ]
    },
    {
     "name": "stderr",
     "output_type": "stream",
     "text": [
      "training loop:  25% |##########                                 | ETA:  1:05:01\r"
     ]
    },
    {
     "name": "stdout",
     "output_type": "stream",
     "text": [
      "Episode 1250/5000            Score: 0.10            Average Score: 0.14            Max Score: 0.70            Average steps: 54.41\n",
      "Episode 1299/5000            Score: 0.19            Average Score: 0.17            Max Score: 0.70            Average steps: 69.29"
     ]
    },
    {
     "name": "stderr",
     "output_type": "stream",
     "text": [
      "training loop:  26% |###########                                | ETA:  1:10:11\r"
     ]
    },
    {
     "name": "stdout",
     "output_type": "stream",
     "text": [
      "Episode 1300/5000            Score: 0.30            Average Score: 0.18            Max Score: 0.70            Average steps: 70.27\n",
      "Episode 1349/5000            Score: 1.30            Average Score: 0.41            Max Score: 1.30            Average steps: 164.16"
     ]
    },
    {
     "name": "stderr",
     "output_type": "stream",
     "text": [
      "training loop:  27% |###########                                | ETA:  1:35:51\r"
     ]
    },
    {
     "name": "stdout",
     "output_type": "stream",
     "text": [
      "Episode 1350/5000            Score: 1.30            Average Score: 0.43            Max Score: 1.30            Average steps: 168.64\n",
      "Episode 1359/5000            Score: 1.30            Average Score: 0.50            Max Score: 1.40            Average steps: 196.64"
     ]
    },
    {
     "name": "stderr",
     "output_type": "stream",
     "text": [
      "training loop: 100% |###########################################| Time: 0:38:43\r"
     ]
    },
    {
     "name": "stdout",
     "output_type": "stream",
     "text": [
      "\r",
      "Episode 1360/5000            Score: 0.70            Average Score: 0.51            Max Score: 1.40            Average steps: 198.92Environment solved in 1260 episodes!\t Average Score: 0.51\n"
     ]
    },
    {
     "name": "stderr",
     "output_type": "stream",
     "text": [
      "\n"
     ]
    }
   ],
   "source": [
    "scores = train(env=env, agent=agent)"
   ]
  },
  {
   "cell_type": "code",
   "execution_count": 13,
   "metadata": {},
   "outputs": [
    {
     "data": {
      "image/png": "[encoded data removed]",
      "text/plain": [
       "<Figure size 432x288 with 1 Axes>"
      ]
     },
     "metadata": {},
     "output_type": "display_data"
    }
   ],
   "source": [
    "plot_scores(scores)"
   ]
  },
  {
   "cell_type": "markdown",
   "metadata": {},
   "source": [
    "### Watch Smart Agent"
   ]
  },
  {
   "cell_type": "code",
   "execution_count": 1,
   "metadata": {},
   "outputs": [
    {
     "name": "stderr",
     "output_type": "stream",
     "text": [
      "INFO:unityagents:\n",
      "'Academy' started successfully!\n",
      "Unity Academy name: Academy\n",
      "        Number of Brains: 1\n",
      "        Number of External Brains : 1\n",
      "        Lesson number : 0\n",
      "        Reset Parameters :\n",
      "\t\t\n",
      "Unity brain name: TennisBrain\n",
      "        Number of Visual Observations (per agent): 0\n",
      "        Vector Observation space type: continuous\n",
      "        Vector Observation space size (per agent): 8\n",
      "        Number of stacked Vector Observation: 3\n",
      "        Vector Action space type: continuous\n",
      "        Vector Action space size (per agent): 2\n",
      "        Vector Action descriptions: , \n"
     ]
    }
   ],
   "source": [
    "from maddpg_agent import MultiAgent\n",
    "from model import Actor\n",
    "from model import Critic\n",
    "from replay_buffer import ReplayBuffer\n",
    "from noise import OUNoise\n",
    "from unity_env_wrapper import EnvMultipleWrapper\n",
    "from unityagents import UnityEnvironment\n",
    "import torch\n",
    "\n",
    "unity_env = UnityEnvironment(file_name=\"Tennis.app\")\n",
    "env = EnvMultipleWrapper(env=unity_env, train_mode=False)\n",
    "\n",
    "buffer_size = int(1e5)\n",
    "device = torch.device(\"cuda:0\" if torch.cuda.is_available() else \"cpu\")\n",
    "learning_rate_actor = 1e-4\n",
    "learning_rate_critic = 1e-3\n",
    "seed = 2\n",
    "episodes_before_train = 300\n",
    "batch_size = 256\n",
    "\n",
    "action_dim = env.action_size\n",
    "state_dim = env.state_size\n",
    "num_agents = env.num_agents\n",
    "\n",
    "def create_actor():\n",
    "    return Actor(\n",
    "        state_dim=state_dim,\n",
    "        action_dim=action_dim,\n",
    "        fc1_units=400,\n",
    "        fc2_units=300,\n",
    "        seed=seed)\n",
    "\n",
    "def create_critic():\n",
    "    return Critic(\n",
    "        state_dim=state_dim * num_agents,\n",
    "        action_dim=action_dim * num_agents,\n",
    "        fc1_units=400,\n",
    "        fc2_units=300,\n",
    "        seed=seed)\n",
    "\n",
    "def create_noise():\n",
    "    return OUNoise(size=action_dim, seed=seed)\n",
    "\n",
    "replay_buffer = ReplayBuffer(buffer_size=buffer_size, seed=seed)"
   ]
  },
  {
   "cell_type": "code",
   "execution_count": 2,
   "metadata": {},
   "outputs": [],
   "source": [
    "agent = MultiAgent(\n",
    "    num_agents=num_agents,\n",
    "    create_actor=create_actor,\n",
    "    create_critic=create_critic,\n",
    "    replay_buffer=replay_buffer,\n",
    "    create_noise=create_noise,\n",
    "    state_dim=state_dim,\n",
    "    action_dim=action_dim,\n",
    "    episodes_before_train=episodes_before_train,\n",
    "    device=device,\n",
    "    lr_actor=learning_rate_actor,\n",
    "    lr_critic=learning_rate_critic,\n",
    "    batch_size=batch_size,\n",
    "    discount=0.99,\n",
    "    tau=1e-3,\n",
    "    noise_reduction=0.99,\n",
    "    seed=seed)"
   ]
  },
  {
   "cell_type": "code",
   "execution_count": 4,
   "metadata": {},
   "outputs": [
    {
     "name": "stdout",
     "output_type": "stream",
     "text": [
      "----------------------------------------------------------------\n",
      "        Layer (type)               Output Shape         Param #\n",
      "================================================================\n",
      "       BatchNorm1d-1                   [-1, 24]              48\n",
      "            Linear-2                  [-1, 400]          10,000\n",
      "            Linear-3                  [-1, 300]         120,300\n",
      "            Linear-4                    [-1, 2]             602\n",
      "================================================================\n",
      "Total params: 130,950\n",
      "Trainable params: 130,950\n",
      "Non-trainable params: 0\n",
      "----------------------------------------------------------------\n",
      "Input size (MB): 0.00\n",
      "Forward/backward pass size (MB): 0.01\n",
      "Params size (MB): 0.50\n",
      "Estimated Total Size (MB): 0.51\n",
      "----------------------------------------------------------------\n"
     ]
    },
    {
     "name": "stderr",
     "output_type": "stream",
     "text": [
      "/anaconda3/envs/drlnd/lib/python3.6/site-packages/torch/nn/functional.py:995: UserWarning: nn.functional.tanh is deprecated. Use torch.tanh instead.\n",
      "  warnings.warn(\"nn.functional.tanh is deprecated. Use torch.tanh instead.\")\n"
     ]
    }
   ],
   "source": [
    "from torchsummary import summary\n",
    "summary(agent.agents[0].actor, (state_dim,))"
   ]
  },
  {
   "cell_type": "code",
   "execution_count": 5,
   "metadata": {},
   "outputs": [
    {
     "name": "stdout",
     "output_type": "stream",
     "text": [
      "----------------------------------------------------------------\n",
      "        Layer (type)               Output Shape         Param #\n",
      "================================================================\n",
      "       BatchNorm1d-1                   [-1, 48]              96\n",
      "            Linear-2                  [-1, 400]          19,600\n",
      "            Linear-3                  [-1, 300]         121,500\n",
      "            Linear-4                    [-1, 1]             301\n",
      "================================================================\n",
      "Total params: 141,497\n",
      "Trainable params: 141,497\n",
      "Non-trainable params: 0\n",
      "----------------------------------------------------------------\n",
      "Input size (MB): 0.00\n",
      "Forward/backward pass size (MB): 0.01\n",
      "Params size (MB): 0.54\n",
      "Estimated Total Size (MB): 0.55\n",
      "----------------------------------------------------------------\n"
     ]
    }
   ],
   "source": [
    "summary(agent.agents[0].critic, [(state_dim * num_agents,), (action_dim * num_agents, )])"
   ]
  },
  {
   "cell_type": "code",
   "execution_count": 15,
   "metadata": {},
   "outputs": [],
   "source": [
    "for i, agent_i in enumerate(agent.agents):\n",
    "    agent_i.actor.load_state_dict(torch.load(f\"checkpoint_actor_{i}.pth\"))\n",
    "    agent_i.critic.load_state_dict(torch.load(f\"checkpoint_critic_{i}.pth\"))"
   ]
  },
  {
   "cell_type": "code",
   "execution_count": 18,
   "metadata": {},
   "outputs": [
    {
     "name": "stdout",
     "output_type": "stream",
     "text": [
      "2.600000038743019\n"
     ]
    }
   ],
   "source": [
    "states = env.reset()\n",
    "score = np.zeros(env.num_agents)\n",
    "for t in range(5000):\n",
    "    actions = agent.act(states, add_noise=False)\n",
    "    next_states, rewards, dones = env.step(actions)\n",
    "    states = next_states\n",
    "    \n",
    "    score += rewards\n",
    "    if np.any(dones):\n",
    "        break\n",
    "        \n",
    "print(np.max(score))"
   ]
  },
  {
   "cell_type": "code",
   "execution_count": null,
   "metadata": {},
   "outputs": [],
   "source": []
  }
 ],
 "metadata": {
  "kernelspec": {
   "display_name": "Python 3",
   "language": "python",
   "name": "python3"
  },
  "language_info": {
   "codemirror_mode": {
    "name": "ipython",
    "version": 3
   },
   "file_extension": ".py",
   "mimetype": "text/x-python",
   "name": "python",
   "nbconvert_exporter": "python",
   "pygments_lexer": "ipython3",
   "version": "3.6.7"
  }
 },
 "nbformat": 4,
 "nbformat_minor": 2
}
